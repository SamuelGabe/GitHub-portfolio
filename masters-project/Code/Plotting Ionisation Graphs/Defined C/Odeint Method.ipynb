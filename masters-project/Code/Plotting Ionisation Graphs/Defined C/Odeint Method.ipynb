{
 "cells": [
  {
   "cell_type": "code",
   "execution_count": 1,
   "metadata": {},
   "outputs": [],
   "source": [
    "import numpy as np\n",
    "import matplotlib\n",
    "import matplotlib.pyplot as plt\n",
    "import scipy.constants as con\n",
    "from scipy.integrate import odeint"
   ]
  },
  {
   "cell_type": "code",
   "execution_count": 2,
   "metadata": {},
   "outputs": [],
   "source": [
    "import os\n",
    "os.chdir('/Users/samgabe/Library/CloudStorage/OneDrive-TheUniversityofNottingham/University/Fourth year/Project/Term 2/')"
   ]
  },
  {
   "attachments": {},
   "cell_type": "markdown",
   "metadata": {},
   "source": [
    "## Define variables and functions\n",
    "Constant terms are defined, then the non-constant $H_0$ and $\\bar{t}_{rec}$ terms. The $\\bar{t}_{rec}$ function also takes the clumping factor as an argument as this isn't constant."
   ]
  },
  {
   "cell_type": "code",
   "execution_count": 3,
   "metadata": {},
   "outputs": [],
   "source": [
    "sqrt = np.sqrt\n",
    "G = con.G\n",
    "\n",
    "# 1 MPc in metres\n",
    "MPc = 3.0857E+22\n",
    "\n",
    "# Define constants. Some are taken from the simulations\n",
    "ndot_ion = 3E+50 / MPc**3\n",
    "mass_H   = 1.67262192E-27\n",
    "clump_H = 3\n",
    "Xh = 0.76\n",
    "Yhe = 1 - Xh\n",
    "temp = 1E4\n",
    "H0 = 67.5 * 1000 / MPc\n",
    "\n",
    "Ωb = 0.0482\n",
    "ΩL = 0.692\n",
    "ΩM = 0.308\n",
    "\n",
    "# Calculate alpha\n",
    "a = 7.982e-11; b = 0.7480; T0 = 3.148e+00; T1 = 7.036e+05\n",
    "\n",
    "# Divide symbol at the start instead of putting **-1 at the end\n",
    "alpha = a / (sqrt(temp/T0) * (1 + sqrt(temp/T0))**(1-b) * (1+sqrt(temp/T1))**(1+b))\n",
    "alpha /= 1e6\n",
    "\n",
    "# Average number density of hydrogen. (1+z)**3 removed because nion factor has (1+z)**3 factor as well\n",
    "n_avg = (3 * (H0*H0) / (8 * np.pi * G)) * Ωb * Xh / mass_H\n",
    "\n",
    "# Functions to work out non-constant values\n",
    "def hubble(z): return H0 * sqrt(ΩM * (1+z)**3 + ΩL)\n",
    "def trec(z, clump): return 1 / (clump * alpha * n_avg * (1 + Yhe / (4 * Xh)) * (1+z)**3)"
   ]
  },
  {
   "attachments": {},
   "cell_type": "markdown",
   "metadata": {},
   "source": [
    "## Functions to calculate dQ/dz and Q\n",
    "The dQ/dz function is called by the odeint function, which passes in the arguments (zarr, clumparr). These arrays are used to find the clumping factor, which makes up the first two lines of the dQ/dz function.\n",
    "\n",
    "The findQ function loads the clumping factor data from a txt and solves the differential equation using this data."
   ]
  },
  {
   "cell_type": "code",
   "execution_count": 4,
   "metadata": {},
   "outputs": [],
   "source": [
    "# Returns dQ/dz given Q and z\n",
    "def dQdz(Q, z, zarr, clumparr):\n",
    "    # Find clumping factor.\n",
    "    clump_index = np.abs(zarr - z).argmin()                     # Find index of nearest value to z\n",
    "    clump = clumparr[clump_index]\n",
    "    \n",
    "    return 1 / (hubble(z) * (1 + z)) * (Q / trec(z, clump) - ndot_ion / n_avg)\n",
    "\n",
    "# MAIN FUNCTION to return an array of Q for a filename\n",
    "def findQ(filename):\n",
    "    data = np.loadtxt(filename)                                 # Load data from file\n",
    "    zarr = np.flip(data[:,0]); clumparr = np.flip(data[:,1])    # Unpack data into z and clump\n",
    "\n",
    "    Qarr = odeint(dQdz, 0, zarr, args=(zarr, clumparr))[:,0]    # Solve diff. equation\n",
    "    return (Qarr, zarr)"
   ]
  },
  {
   "attachments": {},
   "cell_type": "markdown",
   "metadata": {},
   "source": [
    "## Q vs z plots, $\\Delta = 100$"
   ]
  },
  {
   "cell_type": "code",
   "execution_count": 5,
   "metadata": {},
   "outputs": [
    {
     "ename": "OSError",
     "evalue": "Data/Clumping Factor Data/planck1_20_1024 data txt/planck1201024 C z Dlim 100 for CR correct alpha _ FIXED.txt not found.",
     "output_type": "error",
     "traceback": [
      "\u001b[0;31m---------------------------------------------------------------------------\u001b[0m",
      "\u001b[0;31mOSError\u001b[0m                                   Traceback (most recent call last)",
      "\u001b[0;32m/var/folders/1x/64pv25ds1wz9f75cf36bnkw00000gn/T/ipykernel_32335/628406534.py\u001b[0m in \u001b[0;36m<module>\u001b[0;34m\u001b[0m\n\u001b[1;32m      1\u001b[0m \u001b[0;31m# Create data. Returns Q and z but z is always the same, so after we have z we only need [0] from func\u001b[0m\u001b[0;34m\u001b[0m\u001b[0;34m\u001b[0m\u001b[0;34m\u001b[0m\u001b[0m\n\u001b[1;32m      2\u001b[0m \u001b[0mstem\u001b[0m \u001b[0;34m=\u001b[0m \u001b[0;34m'Data/Clumping Factor Data/'\u001b[0m\u001b[0;34m\u001b[0m\u001b[0;34m\u001b[0m\u001b[0m\n\u001b[0;32m----> 3\u001b[0;31m \u001b[0mQ_Λcdm\u001b[0m\u001b[0;34m,\u001b[0m \u001b[0mzarr\u001b[0m \u001b[0;34m=\u001b[0m \u001b[0mfindQ\u001b[0m\u001b[0;34m(\u001b[0m\u001b[0mstem\u001b[0m \u001b[0;34m+\u001b[0m \u001b[0;34m'planck1_20_1024 data txt/planck1201024 C z Dlim 100 for CR correct alpha _ FIXED.txt'\u001b[0m\u001b[0;34m)\u001b[0m\u001b[0;34m\u001b[0m\u001b[0;34m\u001b[0m\u001b[0m\n\u001b[0m\u001b[1;32m      4\u001b[0m \u001b[0mQ_cdm\u001b[0m        \u001b[0;34m=\u001b[0m \u001b[0mfindQ\u001b[0m\u001b[0;34m(\u001b[0m\u001b[0mstem\u001b[0m \u001b[0;34m+\u001b[0m \u001b[0;34m'planck1_20_1024_COLD data txts/planck1201024cold C z Dlim 100 for CR correct alpha.txt'\u001b[0m\u001b[0;34m)\u001b[0m\u001b[0;34m[\u001b[0m\u001b[0;36m0\u001b[0m\u001b[0;34m]\u001b[0m\u001b[0;34m\u001b[0m\u001b[0;34m\u001b[0m\u001b[0m\n\u001b[1;32m      5\u001b[0m \u001b[0mQ_wdm1\u001b[0m       \u001b[0;34m=\u001b[0m \u001b[0mfindQ\u001b[0m\u001b[0;34m(\u001b[0m\u001b[0mstem\u001b[0m \u001b[0;34m+\u001b[0m \u001b[0;34m'planck1_20_1024_WDM1 data txts/planck1201024wdm1 C z Dlim 100 for CR correct alpha.txt'\u001b[0m\u001b[0;34m)\u001b[0m\u001b[0;34m[\u001b[0m\u001b[0;36m0\u001b[0m\u001b[0;34m]\u001b[0m\u001b[0;34m\u001b[0m\u001b[0;34m\u001b[0m\u001b[0m\n",
      "\u001b[0;32m/var/folders/1x/64pv25ds1wz9f75cf36bnkw00000gn/T/ipykernel_32335/1735932812.py\u001b[0m in \u001b[0;36mfindQ\u001b[0;34m(filename)\u001b[0m\n\u001b[1;32m      9\u001b[0m \u001b[0;31m# MAIN FUNCTION to return an array of Q for a filename\u001b[0m\u001b[0;34m\u001b[0m\u001b[0;34m\u001b[0m\u001b[0;34m\u001b[0m\u001b[0m\n\u001b[1;32m     10\u001b[0m \u001b[0;32mdef\u001b[0m \u001b[0mfindQ\u001b[0m\u001b[0;34m(\u001b[0m\u001b[0mfilename\u001b[0m\u001b[0;34m)\u001b[0m\u001b[0;34m:\u001b[0m\u001b[0;34m\u001b[0m\u001b[0;34m\u001b[0m\u001b[0m\n\u001b[0;32m---> 11\u001b[0;31m     \u001b[0mdata\u001b[0m \u001b[0;34m=\u001b[0m \u001b[0mnp\u001b[0m\u001b[0;34m.\u001b[0m\u001b[0mloadtxt\u001b[0m\u001b[0;34m(\u001b[0m\u001b[0mfilename\u001b[0m\u001b[0;34m)\u001b[0m                                 \u001b[0;31m# Load data from file\u001b[0m\u001b[0;34m\u001b[0m\u001b[0;34m\u001b[0m\u001b[0m\n\u001b[0m\u001b[1;32m     12\u001b[0m     \u001b[0mzarr\u001b[0m \u001b[0;34m=\u001b[0m \u001b[0mnp\u001b[0m\u001b[0;34m.\u001b[0m\u001b[0mflip\u001b[0m\u001b[0;34m(\u001b[0m\u001b[0mdata\u001b[0m\u001b[0;34m[\u001b[0m\u001b[0;34m:\u001b[0m\u001b[0;34m,\u001b[0m\u001b[0;36m0\u001b[0m\u001b[0;34m]\u001b[0m\u001b[0;34m)\u001b[0m\u001b[0;34m;\u001b[0m \u001b[0mclumparr\u001b[0m \u001b[0;34m=\u001b[0m \u001b[0mnp\u001b[0m\u001b[0;34m.\u001b[0m\u001b[0mflip\u001b[0m\u001b[0;34m(\u001b[0m\u001b[0mdata\u001b[0m\u001b[0;34m[\u001b[0m\u001b[0;34m:\u001b[0m\u001b[0;34m,\u001b[0m\u001b[0;36m1\u001b[0m\u001b[0;34m]\u001b[0m\u001b[0;34m)\u001b[0m    \u001b[0;31m# Unpack data into z and clump\u001b[0m\u001b[0;34m\u001b[0m\u001b[0;34m\u001b[0m\u001b[0m\n\u001b[1;32m     13\u001b[0m \u001b[0;34m\u001b[0m\u001b[0m\n",
      "\u001b[0;32m~/opt/anaconda3/envs/uni/lib/python3.7/site-packages/numpy/lib/npyio.py\u001b[0m in \u001b[0;36mloadtxt\u001b[0;34m(fname, dtype, comments, delimiter, converters, skiprows, usecols, unpack, ndmin, encoding, max_rows, like)\u001b[0m\n\u001b[1;32m   1065\u001b[0m             \u001b[0mfname\u001b[0m \u001b[0;34m=\u001b[0m \u001b[0mos_fspath\u001b[0m\u001b[0;34m(\u001b[0m\u001b[0mfname\u001b[0m\u001b[0;34m)\u001b[0m\u001b[0;34m\u001b[0m\u001b[0;34m\u001b[0m\u001b[0m\n\u001b[1;32m   1066\u001b[0m         \u001b[0;32mif\u001b[0m \u001b[0m_is_string_like\u001b[0m\u001b[0;34m(\u001b[0m\u001b[0mfname\u001b[0m\u001b[0;34m)\u001b[0m\u001b[0;34m:\u001b[0m\u001b[0;34m\u001b[0m\u001b[0;34m\u001b[0m\u001b[0m\n\u001b[0;32m-> 1067\u001b[0;31m             \u001b[0mfh\u001b[0m \u001b[0;34m=\u001b[0m \u001b[0mnp\u001b[0m\u001b[0;34m.\u001b[0m\u001b[0mlib\u001b[0m\u001b[0;34m.\u001b[0m\u001b[0m_datasource\u001b[0m\u001b[0;34m.\u001b[0m\u001b[0mopen\u001b[0m\u001b[0;34m(\u001b[0m\u001b[0mfname\u001b[0m\u001b[0;34m,\u001b[0m \u001b[0;34m'rt'\u001b[0m\u001b[0;34m,\u001b[0m \u001b[0mencoding\u001b[0m\u001b[0;34m=\u001b[0m\u001b[0mencoding\u001b[0m\u001b[0;34m)\u001b[0m\u001b[0;34m\u001b[0m\u001b[0;34m\u001b[0m\u001b[0m\n\u001b[0m\u001b[1;32m   1068\u001b[0m             \u001b[0mfencoding\u001b[0m \u001b[0;34m=\u001b[0m \u001b[0mgetattr\u001b[0m\u001b[0;34m(\u001b[0m\u001b[0mfh\u001b[0m\u001b[0;34m,\u001b[0m \u001b[0;34m'encoding'\u001b[0m\u001b[0;34m,\u001b[0m \u001b[0;34m'latin1'\u001b[0m\u001b[0;34m)\u001b[0m\u001b[0;34m\u001b[0m\u001b[0;34m\u001b[0m\u001b[0m\n\u001b[1;32m   1069\u001b[0m             \u001b[0mfh\u001b[0m \u001b[0;34m=\u001b[0m \u001b[0miter\u001b[0m\u001b[0;34m(\u001b[0m\u001b[0mfh\u001b[0m\u001b[0;34m)\u001b[0m\u001b[0;34m\u001b[0m\u001b[0;34m\u001b[0m\u001b[0m\n",
      "\u001b[0;32m~/opt/anaconda3/envs/uni/lib/python3.7/site-packages/numpy/lib/_datasource.py\u001b[0m in \u001b[0;36mopen\u001b[0;34m(path, mode, destpath, encoding, newline)\u001b[0m\n\u001b[1;32m    191\u001b[0m \u001b[0;34m\u001b[0m\u001b[0m\n\u001b[1;32m    192\u001b[0m     \u001b[0mds\u001b[0m \u001b[0;34m=\u001b[0m \u001b[0mDataSource\u001b[0m\u001b[0;34m(\u001b[0m\u001b[0mdestpath\u001b[0m\u001b[0;34m)\u001b[0m\u001b[0;34m\u001b[0m\u001b[0;34m\u001b[0m\u001b[0m\n\u001b[0;32m--> 193\u001b[0;31m     \u001b[0;32mreturn\u001b[0m \u001b[0mds\u001b[0m\u001b[0;34m.\u001b[0m\u001b[0mopen\u001b[0m\u001b[0;34m(\u001b[0m\u001b[0mpath\u001b[0m\u001b[0;34m,\u001b[0m \u001b[0mmode\u001b[0m\u001b[0;34m,\u001b[0m \u001b[0mencoding\u001b[0m\u001b[0;34m=\u001b[0m\u001b[0mencoding\u001b[0m\u001b[0;34m,\u001b[0m \u001b[0mnewline\u001b[0m\u001b[0;34m=\u001b[0m\u001b[0mnewline\u001b[0m\u001b[0;34m)\u001b[0m\u001b[0;34m\u001b[0m\u001b[0;34m\u001b[0m\u001b[0m\n\u001b[0m\u001b[1;32m    194\u001b[0m \u001b[0;34m\u001b[0m\u001b[0m\n\u001b[1;32m    195\u001b[0m \u001b[0;34m\u001b[0m\u001b[0m\n",
      "\u001b[0;32m~/opt/anaconda3/envs/uni/lib/python3.7/site-packages/numpy/lib/_datasource.py\u001b[0m in \u001b[0;36mopen\u001b[0;34m(self, path, mode, encoding, newline)\u001b[0m\n\u001b[1;32m    531\u001b[0m                                       encoding=encoding, newline=newline)\n\u001b[1;32m    532\u001b[0m         \u001b[0;32melse\u001b[0m\u001b[0;34m:\u001b[0m\u001b[0;34m\u001b[0m\u001b[0;34m\u001b[0m\u001b[0m\n\u001b[0;32m--> 533\u001b[0;31m             \u001b[0;32mraise\u001b[0m \u001b[0mIOError\u001b[0m\u001b[0;34m(\u001b[0m\u001b[0;34m\"%s not found.\"\u001b[0m \u001b[0;34m%\u001b[0m \u001b[0mpath\u001b[0m\u001b[0;34m)\u001b[0m\u001b[0;34m\u001b[0m\u001b[0;34m\u001b[0m\u001b[0m\n\u001b[0m\u001b[1;32m    534\u001b[0m \u001b[0;34m\u001b[0m\u001b[0m\n\u001b[1;32m    535\u001b[0m \u001b[0;34m\u001b[0m\u001b[0m\n",
      "\u001b[0;31mOSError\u001b[0m: Data/Clumping Factor Data/planck1_20_1024 data txt/planck1201024 C z Dlim 100 for CR correct alpha _ FIXED.txt not found."
     ]
    }
   ],
   "source": [
    "# Create data. Returns Q and z but z is always the same, so after we have z we only need [0] from func\n",
    "stem = 'Data/Clumping Factor Data/'\n",
    "Q_Λcdm, zarr = findQ(stem + 'planck1_20_1024 data txt/planck1201024 C z Dlim 100 for CR correct alpha _ FIXED.txt')\n",
    "Q_cdm        = findQ(stem + 'planck1_20_1024_COLD data txts/planck1201024cold C z Dlim 100 for CR correct alpha.txt')[0]\n",
    "Q_wdm1       = findQ(stem + 'planck1_20_1024_WDM1 data txts/planck1201024wdm1 C z Dlim 100 for CR correct alpha.txt')[0]\n",
    "Q_wdm2       = findQ(stem + 'planck1_20_1024_WDM2 data txts/planck1201024wdm2 C z Dlim 100 for CR correct alpha.txt')[0]\n",
    "Q_wdm3       = findQ(stem + 'planck1_20_1024_WDM3 data txts/planck1201024wdm3 C z Dlim 100 for CR correct alpha.txt')[0]\n",
    "Q_wdm4       = findQ(stem + 'planck1_20_1024_WDM4 data txts/planck1201024wdm4 C z Dlim 100 for CR correct alpha.txt')[0]\n",
    "Q_wdmt       = findQ(stem + 'planck1_20_1024_WARM_TAR data txts/planck1201024hot C z Dlim 100 for CR correct alpha.txt')[0]\n",
    "\n",
    "# Find value with constant clumping factor\n",
    "clumparr_c3 = np.ones_like(zarr) * 3.\n",
    "Q_c3 = odeint(dQdz, 0, zarr, args=(zarr, clumparr_c3))[:,0]\n",
    "\n",
    "plt.figure(figsize=(7, 5))\n",
    "\n",
    "# Plots\n",
    "plt.plot(zarr, Q_Λcdm, linewidth=1.0, label='ΛCDM')\n",
    "plt.plot(zarr, Q_cdm , linewidth=1.0, label='CDM' )\n",
    "plt.plot(zarr, Q_wdm1, linewidth=1.0, label='WDM1')\n",
    "plt.plot(zarr, Q_wdm2, linewidth=1.0, label='WDM2')\n",
    "plt.plot(zarr, Q_wdm3, linewidth=1.0, label='WDM3')\n",
    "plt.plot(zarr, Q_wdm4, linewidth=1.0, label='WDM4')\n",
    "plt.plot(zarr, Q_wdmt, linewidth=1.0, label='WARM_TAR')\n",
    "plt.plot(zarr, Q_c3  , linewidth=1.0, label='C=3 (const)')\n",
    "\n",
    "plt.xlim(np.min(zarr), np.max(zarr))\n",
    "# plt.ylim(0., 1.)\n",
    "plt.xlabel('$z$')\n",
    "plt.ylabel('$Q$')\n",
    "plt.legend()\n",
    "plt.savefig('Graphs/Plotting Ionisation Graphs/Odeint Defined C', dpi=1000)\n",
    "plt.show()"
   ]
  },
  {
   "attachments": {},
   "cell_type": "markdown",
   "metadata": {},
   "source": [
    "## Q vs z plots, ΛCDM, varying density limit"
   ]
  },
  {
   "cell_type": "code",
   "execution_count": null,
   "metadata": {},
   "outputs": [
    {
     "data": {
      "image/png": "[encoded data removed]",
      "text/plain": [
       "<Figure size 504x360 with 1 Axes>"
      ]
     },
     "metadata": {
      "needs_background": "light"
     },
     "output_type": "display_data"
    }
   ],
   "source": [
    "# Create data\n",
    "stem = 'Data/Clumping Factor Data/planck1_20_1024 data txt/planck1201024 C z Dlim {0} for CR correct alpha _ FIXED.txt'\n",
    "Q_dlim50, zarr = findQ(stem.format('50'))\n",
    "Q_dlim100      = findQ(stem.format('100'))[0]\n",
    "Q_dlim200      = findQ(stem.format('200'))[0]\n",
    "\n",
    "plt.figure(figsize=(7, 5))\n",
    "\n",
    "# Plots\n",
    "plt.plot(zarr, Q_dlim50 , linewidth=1.0, label='$\\\\Delta=50$' )\n",
    "plt.plot(zarr, Q_dlim100, linewidth=1.0, label='$\\\\Delta=100$')\n",
    "plt.plot(zarr, Q_dlim200, linewidth=1.0, label='$\\\\Delta=200$')\n",
    "\n",
    "plt.xlim(np.min(zarr), np.max(zarr))\n",
    "# plt.ylim(0., 1.)\n",
    "plt.xlabel('$z$')\n",
    "plt.ylabel('$Q$')\n",
    "plt.savefig('Graphs/Ionisation/Varying Dlim for LambdaCDM.png', dpi=300)\n",
    "plt.show()"
   ]
  }
 ],
 "metadata": {
  "kernelspec": {
   "display_name": "base",
   "language": "python",
   "name": "python3"
  },
  "language_info": {
   "codemirror_mode": {
    "name": "ipython",
    "version": 3
   },
   "file_extension": ".py",
   "mimetype": "text/x-python",
   "name": "python",
   "nbconvert_exporter": "python",
   "pygments_lexer": "ipython3",
   "version": "3.7.13"
  },
  "orig_nbformat": 4
 },
 "nbformat": 4,
 "nbformat_minor": 2
}
