{
 "cells": [
  {
   "attachments": {},
   "cell_type": "markdown",
   "id": "a519d150",
   "metadata": {},
   "source": [
    "# Import and set up plot_clump() function"
   ]
  },
  {
   "cell_type": "code",
   "execution_count": 2,
   "id": "c8e2287d",
   "metadata": {},
   "outputs": [],
   "source": [
    "from datetime import datetime\n",
    "import numpy as np\n",
    "import matplotlib.pyplot as plt\n",
    "import scipy.constants as con\n",
    "\n",
    "z_arr = np.arange(4.000, 12.200, 0.200)"
   ]
  },
  {
   "cell_type": "code",
   "execution_count": 3,
   "id": "31cb17e1",
   "metadata": {},
   "outputs": [],
   "source": [
    "def plot_clump(base):\n",
    "\n",
    "    # Set up arrays\n",
    "    clump_arr       = np.zeros(len(z_arr))              # Clumping factor array using original definition\n",
    "    clump_HII_arr   = np.zeros(len(z_arr))              # Clumping factor array using C_HII definition\n",
    "    clump_R_arr     = np.zeros(len(z_arr))              # Clumping factor array using C_R definition\n",
    "\n",
    "    for i in range(len(clump_arr)):\n",
    "        # Format file name to have 3 decimal places\n",
    "        file  = base+'los2048_n5000_z{0:.3f}.dat'.format(z_arr[i])\n",
    "\n",
    "        # Open the binary file\n",
    "        readdata = open(file,\"rb\")\n",
    "\n",
    "\n",
    "        # Header data\n",
    "        ztime  = np.fromfile(readdata,dtype=np.double,count=1) # redshift\n",
    "        omegaM = np.fromfile(readdata,dtype=np.double,count=1) # Omega_m (matter density)\n",
    "        omegaL = np.fromfile(readdata,dtype=np.double,count=1) # Omega_L (Lambda density)\n",
    "        omegab = np.fromfile(readdata,dtype=np.double,count=1) # Omega_b (baryon density)\n",
    "        h100   = np.fromfile(readdata,dtype=np.double,count=1) # Hubble constant, H0 / 100 km/s/Mpc\n",
    "        box100 = np.fromfile(readdata,dtype=np.double,count=1) # Box size in comoving kpc/h\n",
    "        Xh     = np.fromfile(readdata,dtype=np.double,count=1) # Hydrogen fraction by mass\n",
    "        nbins  = np.fromfile(readdata,dtype=np.int32,count=1)  # Number of pixels in each line of sight\n",
    "        numlos = np.fromfile(readdata,dtype=np.int32,count=1)  # Number of lines of sight\n",
    "\n",
    "        # Line of sight locations in box \n",
    "        iaxis  = np.fromfile(readdata,dtype=np.int32,count=numlos[0])  # projection axis, x=1, y=2, z=3\n",
    "        xaxis  = np.fromfile(readdata,dtype=np.double,count=numlos[0]) # x-coordinate in comoving kpc/h\n",
    "        yaxis  = np.fromfile(readdata,dtype=np.double,count=numlos[0]) # y-coordinate in comoving kpc/h\n",
    "        zaxis  = np.fromfile(readdata,dtype=np.double,count=numlos[0]) # z-coordinate in comoving kpc/h\n",
    "\n",
    "        # Line of sight scale\n",
    "        posaxis = np.fromfile(readdata,dtype=np.double,count=nbins[0]) # comoving kpc/h\n",
    "        velaxis = np.fromfile(readdata,dtype=np.double,count=nbins[0]) # km/s\n",
    "\n",
    "        # Gas density, rho/<rho>\n",
    "        density = np.fromfile(readdata,dtype=np.double,count=nbins[0]*numlos[0])\n",
    "\n",
    "        # H1 fraction, fH1 = nH1/nH\n",
    "        H1frac  = np.fromfile(readdata,dtype=np.double,count=nbins[0]*numlos[0])\n",
    "\n",
    "        # Temperature, K\n",
    "        temp    = np.fromfile(readdata,dtype=np.double,count=nbins[0]*numlos[0])\n",
    "\n",
    "        # Peculiar velocity, km/s\n",
    "        vpec    = np.fromfile(readdata,dtype=np.double,count=nbins[0]*numlos[0])\n",
    "\n",
    "        # Close the binary file\n",
    "        readdata.close()\n",
    "\n",
    "        # Calculate clumping factor for gas with Delta<Dlim\n",
    "        Dlim = 100.0\n",
    "        ind = np.where(density <= Dlim)\n",
    "\n",
    "        # Can calculate Y_He from X_H (variable = Xh)\n",
    "        Yhe = 1 - Xh\n",
    "        alpha_HII = 4.06E-19 * (temp / 1E4)**-0.72\n",
    "\n",
    "        # Store clumping factor in array\n",
    "        clump_arr[i] = np.mean(density[ind]**2.0)/np.mean(density[ind])**2.0\n",
    "\n",
    "        # The quantity over which to calculate the mean value for C_HII\n",
    "        clump_HII_factor = (1 - H1frac[ind]) * density[ind]\n",
    "        clump_HII_arr[i] = np.mean(clump_HII_factor**2.0)/np.mean(clump_HII_factor)**2.0\n",
    "\n",
    "        # The quantity over which to calculate the mean value for C_R\n",
    "        clump_R_arr[i] = np.mean(clump_HII_factor**2 * alpha_HII[ind]) / (np.mean(clump_HII_factor)**2 * np.mean(alpha_HII[ind]))\n",
    "    return clump_arr, clump_HII_arr, clump_R_arr\n"
   ]
  },
  {
   "attachments": {},
   "cell_type": "markdown",
   "id": "19f858d6",
   "metadata": {},
   "source": [
    "# Cells to get clump factors for different dark matter models"
   ]
  },
  {
   "cell_type": "code",
   "execution_count": 93,
   "id": "aae5809e",
   "metadata": {},
   "outputs": [
    {
     "ename": "KeyboardInterrupt",
     "evalue": "",
     "output_type": "error",
     "traceback": [
      "\u001b[0;31m---------------------------------------------------------------------------\u001b[0m",
      "\u001b[0;31mKeyboardInterrupt\u001b[0m                         Traceback (most recent call last)",
      "\u001b[0;32m/var/folders/1x/64pv25ds1wz9f75cf36bnkw00000gn/T/ipykernel_30378/2312453898.py\u001b[0m in \u001b[0;36m<module>\u001b[0;34m\u001b[0m\n\u001b[1;32m      1\u001b[0m \u001b[0mbase\u001b[0m \u001b[0;34m=\u001b[0m \u001b[0;34m'./planck1_20_1024_cold/'\u001b[0m\u001b[0;34m\u001b[0m\u001b[0;34m\u001b[0m\u001b[0m\n\u001b[0;32m----> 2\u001b[0;31m \u001b[0mclump_arr\u001b[0m\u001b[0;34m,\u001b[0m \u001b[0mclump_HII_arr\u001b[0m\u001b[0;34m,\u001b[0m \u001b[0mclump_R_arr\u001b[0m \u001b[0;34m=\u001b[0m \u001b[0mplot_clump\u001b[0m\u001b[0;34m(\u001b[0m\u001b[0mbase\u001b[0m\u001b[0;34m)\u001b[0m\u001b[0;34m\u001b[0m\u001b[0;34m\u001b[0m\u001b[0m\n\u001b[0m",
      "\u001b[0;32m/var/folders/1x/64pv25ds1wz9f75cf36bnkw00000gn/T/ipykernel_30378/3451727744.py\u001b[0m in \u001b[0;36mplot_clump\u001b[0;34m(base)\u001b[0m\n\u001b[1;32m     66\u001b[0m \u001b[0;34m\u001b[0m\u001b[0m\n\u001b[1;32m     67\u001b[0m         \u001b[0;31m# The quantity over which to calculate the mean value for C_R\u001b[0m\u001b[0;34m\u001b[0m\u001b[0;34m\u001b[0m\u001b[0;34m\u001b[0m\u001b[0m\n\u001b[0;32m---> 68\u001b[0;31m         \u001b[0mclump_R_arr\u001b[0m\u001b[0;34m[\u001b[0m\u001b[0mi\u001b[0m\u001b[0;34m]\u001b[0m \u001b[0;34m=\u001b[0m \u001b[0mnp\u001b[0m\u001b[0;34m.\u001b[0m\u001b[0mmean\u001b[0m\u001b[0;34m(\u001b[0m\u001b[0mclump_HII_factor\u001b[0m\u001b[0;34m**\u001b[0m\u001b[0;36m2\u001b[0m \u001b[0;34m*\u001b[0m \u001b[0malpha_HII\u001b[0m\u001b[0;34m[\u001b[0m\u001b[0mind\u001b[0m\u001b[0;34m]\u001b[0m\u001b[0;34m)\u001b[0m \u001b[0;34m/\u001b[0m \u001b[0;34m(\u001b[0m\u001b[0mnp\u001b[0m\u001b[0;34m.\u001b[0m\u001b[0mmean\u001b[0m\u001b[0;34m(\u001b[0m\u001b[0mclump_HII_factor\u001b[0m\u001b[0;34m)\u001b[0m\u001b[0;34m**\u001b[0m\u001b[0;36m2\u001b[0m \u001b[0;34m*\u001b[0m \u001b[0mnp\u001b[0m\u001b[0;34m.\u001b[0m\u001b[0mmean\u001b[0m\u001b[0;34m(\u001b[0m\u001b[0malpha_HII\u001b[0m\u001b[0;34m[\u001b[0m\u001b[0mind\u001b[0m\u001b[0;34m]\u001b[0m\u001b[0;34m)\u001b[0m\u001b[0;34m)\u001b[0m\u001b[0;34m\u001b[0m\u001b[0;34m\u001b[0m\u001b[0m\n\u001b[0m\u001b[1;32m     69\u001b[0m     \u001b[0;32mreturn\u001b[0m \u001b[0mclump_arr\u001b[0m\u001b[0;34m,\u001b[0m \u001b[0mclump_HII_arr\u001b[0m\u001b[0;34m,\u001b[0m \u001b[0mclump_R_arr\u001b[0m\u001b[0;34m\u001b[0m\u001b[0;34m\u001b[0m\u001b[0m\n",
      "\u001b[0;31mKeyboardInterrupt\u001b[0m: "
     ]
    }
   ],
   "source": [
    "base = './planck1_20_1024_cold/'\n",
    "clump_arr, clump_HII_arr, clump_R_arr = plot_clump(base)"
   ]
  },
  {
   "cell_type": "code",
   "execution_count": null,
   "id": "30414323",
   "metadata": {},
   "outputs": [],
   "source": [
    "base = './planck1_20_1024_hot/'\n",
    "clump_arr, clump_HII_arr, clump_R_arr = plot_clump(base)"
   ]
  },
  {
   "attachments": {},
   "cell_type": "markdown",
   "id": "d8446f22",
   "metadata": {},
   "source": [
    "# Plot graph"
   ]
  },
  {
   "cell_type": "code",
   "execution_count": 71,
   "id": "5465ee49",
   "metadata": {
    "scrolled": true
   },
   "outputs": [
    {
     "name": "stdout",
     "output_type": "stream",
     "text": [
      "Maximum clumping factor: 6.84\n",
      "Minimum clumping factor: 2.60\n"
     ]
    },
    {
     "data": {
      "image/png": "[encoded data removed]",
      "text/plain": [
       "<Figure size 504x360 with 1 Axes>"
      ]
     },
     "metadata": {
      "needs_background": "light"
     },
     "output_type": "display_data"
    }
   ],
   "source": [
    "print('Maximum clumping factor: {0:.2f}'.format(np.amax(clump_arr)))\n",
    "print('Minimum clumping factor: {0:.2f}'.format(np.amin(clump_arr)))\n",
    "\n",
    "plt.figure(figsize=(7, 5))\n",
    "plt.plot(z_arr, clump_arr, 'black', linewidth=1, label=\"$C_b$\")\n",
    "plt.plot(z_arr, clump_HII_arr, '-.', color='red', linewidth=1, label=\"$C_{HII}$\")\n",
    "plt.plot(z_arr, clump_R_arr, '--', color='blue', linewidth=1, label=\"$C_R$\")\n",
    "\n",
    "plt.xlabel('$z$')\n",
    "plt.ylabel('Clumping factor')\n",
    "plt.xlim(np.amin(z_arr), np.amax(z_arr))\n",
    "#plt.ylim(np.floor(np.amin(clump_arr)), np.ceil(np.amax(clump_arr)))\n",
    "plt.legend()\n",
    "#plt.title('Relationship between clumping factor and redshift, Dlim = {0:.1f}, C = $\\\\frac{\\\\langle \\\\rho^2 \\\\rangle}{\\\\langle \\\\rho \\\\rangle ^ 2}$'.format(Dlim))\n",
    "plt.savefig(\"Graphs/{0} 3 clumping factors CDM.jpg\".format(datetime.now()), dpi=300)\n",
    "plt.show()"
   ]
  },
  {
   "attachments": {},
   "cell_type": "markdown",
   "id": "e66fe243",
   "metadata": {},
   "source": [
    "# Code to plot other quantities"
   ]
  },
  {
   "attachments": {},
   "cell_type": "markdown",
   "id": "7a19c37c",
   "metadata": {},
   "source": [
    "### $\\langle n_{HII} \\rangle$"
   ]
  },
  {
   "cell_type": "code",
   "execution_count": 4,
   "id": "3a1b8a21",
   "metadata": {},
   "outputs": [],
   "source": [
    "def calc_other_quantities(base):\n",
    "\n",
    "    # Set up arrays\n",
    "    z_arr = np.arange(4.000, 12.200, 0.200)\n",
    "    nH_arr       = np.zeros_like(z_arr)\n",
    "    nHII_arr     = np.zeros_like(z_arr)\n",
    "    ne_arr       = np.zeros_like(z_arr)\n",
    "    alphaHII_arr = np.zeros_like(z_arr)\n",
    "\n",
    "    # Mass of ionized hydrogen. Used to get number density from density\n",
    "    mass_H = 1.67262192E-27\n",
    "\n",
    "    for i, z in enumerate(z_arr):\n",
    "        # Format file name to have 3 decimal places\n",
    "        file  = base+'los2048_n5000_z{0:.3f}.dat'.format(z)\n",
    "\n",
    "        # Open the binary file\n",
    "        readdata = open(file,\"rb\")\n",
    "\n",
    "\n",
    "        # Header data\n",
    "        ztime  = np.fromfile(readdata,dtype=np.double,count=1) # redshift\n",
    "        omegaM = np.fromfile(readdata,dtype=np.double,count=1) # Omega_m (matter density)\n",
    "        omegaL = np.fromfile(readdata,dtype=np.double,count=1) # Omega_L (Lambda density)\n",
    "        omegab = np.fromfile(readdata,dtype=np.double,count=1) # Omega_b (baryon density)\n",
    "        h100   = np.fromfile(readdata,dtype=np.double,count=1) # Hubble constant, H0 / 100 km/s/Mpc\n",
    "        box100 = np.fromfile(readdata,dtype=np.double,count=1) # Box size in comoving kpc/h\n",
    "        Xh     = np.fromfile(readdata,dtype=np.double,count=1) # Hydrogen fraction by mass\n",
    "        nbins  = np.fromfile(readdata,dtype=np.int32,count=1)  # Number of pixels in each line of sight\n",
    "        numlos = np.fromfile(readdata,dtype=np.int32,count=1)  # Number of lines of sight\n",
    "\n",
    "        # Line of sight locations in box \n",
    "        iaxis  = np.fromfile(readdata,dtype=np.int32,count=numlos[0])  # projection axis, x=1, y=2, z=3\n",
    "        xaxis  = np.fromfile(readdata,dtype=np.double,count=numlos[0]) # x-coordinate in comoving kpc/h\n",
    "        yaxis  = np.fromfile(readdata,dtype=np.double,count=numlos[0]) # y-coordinate in comoving kpc/h\n",
    "        zaxis  = np.fromfile(readdata,dtype=np.double,count=numlos[0]) # z-coordinate in comoving kpc/h\n",
    "\n",
    "        # Line of sight scale\n",
    "        posaxis = np.fromfile(readdata,dtype=np.double,count=nbins[0]) # comoving kpc/h\n",
    "        velaxis = np.fromfile(readdata,dtype=np.double,count=nbins[0]) # km/s\n",
    "\n",
    "        # Gas density, rho/<rho>\n",
    "        density = np.fromfile(readdata,dtype=np.double,count=nbins[0]*numlos[0])\n",
    "\n",
    "        # H1 fraction, fH1 = nH1/nH\n",
    "        H1frac  = np.fromfile(readdata,dtype=np.double,count=nbins[0]*numlos[0])\n",
    "\n",
    "        # Temperature, K\n",
    "        temp    = np.fromfile(readdata,dtype=np.double,count=nbins[0]*numlos[0])\n",
    "\n",
    "        # Peculiar velocity, km/s\n",
    "        vpec    = np.fromfile(readdata,dtype=np.double,count=nbins[0]*numlos[0])\n",
    "\n",
    "        # Close the binary file\n",
    "        readdata.close()\n",
    "\n",
    "        # Calculate clumping factor for gas with Delta<Dlim\n",
    "        Dlim = 100.0\n",
    "        ind = np.where(density <= Dlim)\n",
    "\n",
    "        # Can calculate Y_He from X_H (variable = Xh)\n",
    "        Yhe = 1 - Xh\n",
    "        h_SI = h100*1.0e5/3.086e22\n",
    "        mean_density = (3.0*h_SI*h_SI) / (8.0 * con.pi * con.G) * omegab * Xh * (1.0 + ztime) ** 3\n",
    "\n",
    "        # Arrays not averaged. These will be averaged and then returned. I calculate them first outside\n",
    "        # the bracket to avoid calculating the same things multiple times to make the code run faster\n",
    "        nH = density[ind] * mean_density / mass_H\n",
    "        nHII = nH * H1frac[ind]\n",
    "        ne = (1 - Yhe / (4 * Xh)) * nHII\n",
    "\n",
    "        nH_arr[i] = np.mean(nH)\n",
    "        nHII_arr[i] = np.mean(nHII)\n",
    "        ne_arr[i] = np.mean(ne)\n",
    "        \n",
    "    return nH_arr, nHII_arr, ne_arr"
   ]
  },
  {
   "cell_type": "code",
   "execution_count": 10,
   "id": "ad77e98e",
   "metadata": {},
   "outputs": [],
   "source": [
    "def calc_alpha(base):\n",
    "    alphaHII_arr = np.zeros_like(z_arr)\n",
    "    temp_arr = np.zeros_like(z_arr)\n",
    "    for i, z in enumerate(z_arr):\n",
    "        # Format file name to have 3 decimal places\n",
    "        file  = base+'los2048_n5000_z{0:.3f}.dat'.format(z)\n",
    "\n",
    "        # Open the binary file\n",
    "        readdata = open(file,\"rb\")\n",
    "\n",
    "\n",
    "        # Header data\n",
    "        ztime  = np.fromfile(readdata,dtype=np.double,count=1) # redshift\n",
    "        omegaM = np.fromfile(readdata,dtype=np.double,count=1) # Omega_m (matter density)\n",
    "        omegaL = np.fromfile(readdata,dtype=np.double,count=1) # Omega_L (Lambda density)\n",
    "        omegab = np.fromfile(readdata,dtype=np.double,count=1) # Omega_b (baryon density)\n",
    "        h100   = np.fromfile(readdata,dtype=np.double,count=1) # Hubble constant, H0 / 100 km/s/Mpc\n",
    "        box100 = np.fromfile(readdata,dtype=np.double,count=1) # Box size in comoving kpc/h\n",
    "        Xh     = np.fromfile(readdata,dtype=np.double,count=1) # Hydrogen fraction by mass\n",
    "        nbins  = np.fromfile(readdata,dtype=np.int32,count=1)  # Number of pixels in each line of sight\n",
    "        numlos = np.fromfile(readdata,dtype=np.int32,count=1)  # Number of lines of sight\n",
    "\n",
    "        # Line of sight locations in box \n",
    "        iaxis  = np.fromfile(readdata,dtype=np.int32,count=numlos[0])  # projection axis, x=1, y=2, z=3\n",
    "        xaxis  = np.fromfile(readdata,dtype=np.double,count=numlos[0]) # x-coordinate in comoving kpc/h\n",
    "        yaxis  = np.fromfile(readdata,dtype=np.double,count=numlos[0]) # y-coordinate in comoving kpc/h\n",
    "        zaxis  = np.fromfile(readdata,dtype=np.double,count=numlos[0]) # z-coordinate in comoving kpc/h\n",
    "\n",
    "        # Line of sight scale\n",
    "        posaxis = np.fromfile(readdata,dtype=np.double,count=nbins[0]) # comoving kpc/h\n",
    "        velaxis = np.fromfile(readdata,dtype=np.double,count=nbins[0]) # km/s\n",
    "\n",
    "        # Gas density, rho/<rho>\n",
    "        density = np.fromfile(readdata,dtype=np.double,count=nbins[0]*numlos[0])\n",
    "\n",
    "        # H1 fraction, fH1 = nH1/nH\n",
    "        H1frac  = np.fromfile(readdata,dtype=np.double,count=nbins[0]*numlos[0])\n",
    "\n",
    "        # Temperature, K\n",
    "        temp    = np.fromfile(readdata,dtype=np.double,count=nbins[0]*numlos[0])\n",
    "\n",
    "        # Peculiar velocity, km/s\n",
    "        vpec    = np.fromfile(readdata,dtype=np.double,count=nbins[0]*numlos[0])\n",
    "\n",
    "        # Close the binary file\n",
    "        readdata.close()\n",
    "\n",
    "        # Calculate clumping factor for gas with Delta<Dlim\n",
    "        Dlim = 100.0\n",
    "        ind = np.where(density <= Dlim)\n",
    "\n",
    "        alphaHII_arr[i] = np.mean(4.06E-19 * (temp[ind] / 1E4)**-0.72)\n",
    "        temp_arr[i] = np.mean(temp[ind])\n",
    "    return alphaHII_arr, temp_arr\n"
   ]
  },
  {
   "cell_type": "code",
   "execution_count": 11,
   "id": "200cb2e5",
   "metadata": {},
   "outputs": [],
   "source": [
    "base = './planck1_20_1024_cold/'\n",
    "alphaHII_arr, temp_arr = calc_alpha(base)"
   ]
  },
  {
   "cell_type": "code",
   "execution_count": 12,
   "id": "eb710f8c",
   "metadata": {},
   "outputs": [
    {
     "data": {
      "text/plain": [
       "[<matplotlib.lines.Line2D at 0x7fcf28f7de50>]"
      ]
     },
     "execution_count": 12,
     "metadata": {},
     "output_type": "execute_result"
    },
    {
     "data": {
      "image/png": "[encoded data removed]",
      "text/plain": [
       "<Figure size 432x288 with 1 Axes>"
      ]
     },
     "metadata": {
      "needs_background": "light"
     },
     "output_type": "display_data"
    }
   ],
   "source": [
    "plt.plot(temp_arr, alphaHII_arr)"
   ]
  },
  {
   "attachments": {},
   "cell_type": "markdown",
   "id": "5dcdf9da",
   "metadata": {},
   "source": [
    "### Get values from function for different dark matter models"
   ]
  },
  {
   "cell_type": "code",
   "execution_count": 5,
   "id": "4ca86e8b",
   "metadata": {},
   "outputs": [
    {
     "ename": "KeyboardInterrupt",
     "evalue": "",
     "output_type": "error",
     "traceback": [
      "\u001b[0;31m---------------------------------------------------------------------------\u001b[0m",
      "\u001b[0;31mKeyboardInterrupt\u001b[0m                         Traceback (most recent call last)",
      "\u001b[0;32m/var/folders/1x/64pv25ds1wz9f75cf36bnkw00000gn/T/ipykernel_79144/1401307763.py\u001b[0m in \u001b[0;36m<module>\u001b[0;34m\u001b[0m\n\u001b[1;32m      1\u001b[0m \u001b[0mbase\u001b[0m \u001b[0;34m=\u001b[0m \u001b[0;34m'./planck1_20_1024_cold/'\u001b[0m\u001b[0;34m\u001b[0m\u001b[0;34m\u001b[0m\u001b[0m\n\u001b[0;32m----> 2\u001b[0;31m \u001b[0mnH_arr\u001b[0m\u001b[0;34m,\u001b[0m \u001b[0mnHII_arr\u001b[0m\u001b[0;34m,\u001b[0m \u001b[0mne_arr\u001b[0m\u001b[0;34m,\u001b[0m \u001b[0malphaHII_arr\u001b[0m \u001b[0;34m=\u001b[0m \u001b[0mcalc_other_quantities\u001b[0m\u001b[0;34m(\u001b[0m\u001b[0mbase\u001b[0m\u001b[0;34m)\u001b[0m\u001b[0;34m\u001b[0m\u001b[0;34m\u001b[0m\u001b[0m\n\u001b[0m",
      "\u001b[0;32m/var/folders/1x/64pv25ds1wz9f75cf36bnkw00000gn/T/ipykernel_79144/1728548210.py\u001b[0m in \u001b[0;36mcalc_other_quantities\u001b[0;34m(base)\u001b[0m\n\u001b[1;32m     20\u001b[0m \u001b[0;34m\u001b[0m\u001b[0m\n\u001b[1;32m     21\u001b[0m         \u001b[0;31m# Header data\u001b[0m\u001b[0;34m\u001b[0m\u001b[0;34m\u001b[0m\u001b[0;34m\u001b[0m\u001b[0m\n\u001b[0;32m---> 22\u001b[0;31m         \u001b[0mztime\u001b[0m  \u001b[0;34m=\u001b[0m \u001b[0mnp\u001b[0m\u001b[0;34m.\u001b[0m\u001b[0mfromfile\u001b[0m\u001b[0;34m(\u001b[0m\u001b[0mreaddata\u001b[0m\u001b[0;34m,\u001b[0m\u001b[0mdtype\u001b[0m\u001b[0;34m=\u001b[0m\u001b[0mnp\u001b[0m\u001b[0;34m.\u001b[0m\u001b[0mdouble\u001b[0m\u001b[0;34m,\u001b[0m\u001b[0mcount\u001b[0m\u001b[0;34m=\u001b[0m\u001b[0;36m1\u001b[0m\u001b[0;34m)\u001b[0m \u001b[0;31m# redshift\u001b[0m\u001b[0;34m\u001b[0m\u001b[0;34m\u001b[0m\u001b[0m\n\u001b[0m\u001b[1;32m     23\u001b[0m         \u001b[0momegaM\u001b[0m \u001b[0;34m=\u001b[0m \u001b[0mnp\u001b[0m\u001b[0;34m.\u001b[0m\u001b[0mfromfile\u001b[0m\u001b[0;34m(\u001b[0m\u001b[0mreaddata\u001b[0m\u001b[0;34m,\u001b[0m\u001b[0mdtype\u001b[0m\u001b[0;34m=\u001b[0m\u001b[0mnp\u001b[0m\u001b[0;34m.\u001b[0m\u001b[0mdouble\u001b[0m\u001b[0;34m,\u001b[0m\u001b[0mcount\u001b[0m\u001b[0;34m=\u001b[0m\u001b[0;36m1\u001b[0m\u001b[0;34m)\u001b[0m \u001b[0;31m# Omega_m (matter density)\u001b[0m\u001b[0;34m\u001b[0m\u001b[0;34m\u001b[0m\u001b[0m\n\u001b[1;32m     24\u001b[0m         \u001b[0momegaL\u001b[0m \u001b[0;34m=\u001b[0m \u001b[0mnp\u001b[0m\u001b[0;34m.\u001b[0m\u001b[0mfromfile\u001b[0m\u001b[0;34m(\u001b[0m\u001b[0mreaddata\u001b[0m\u001b[0;34m,\u001b[0m\u001b[0mdtype\u001b[0m\u001b[0;34m=\u001b[0m\u001b[0mnp\u001b[0m\u001b[0;34m.\u001b[0m\u001b[0mdouble\u001b[0m\u001b[0;34m,\u001b[0m\u001b[0mcount\u001b[0m\u001b[0;34m=\u001b[0m\u001b[0;36m1\u001b[0m\u001b[0;34m)\u001b[0m \u001b[0;31m# Omega_L (Lambda density)\u001b[0m\u001b[0;34m\u001b[0m\u001b[0;34m\u001b[0m\u001b[0m\n",
      "\u001b[0;31mKeyboardInterrupt\u001b[0m: "
     ]
    }
   ],
   "source": [
    "base = './planck1_20_1024_cold/'\n",
    "nH_arr, nHII_arr, ne_arr, alphaHII_arr = calc_other_quantities(base)"
   ]
  },
  {
   "attachments": {},
   "cell_type": "markdown",
   "id": "eba9a38a",
   "metadata": {},
   "source": [
    "### Plot graphs"
   ]
  },
  {
   "cell_type": "code",
   "execution_count": null,
   "id": "6d53d72b",
   "metadata": {},
   "outputs": [
    {
     "ename": "NameError",
     "evalue": "name 'plt' is not defined",
     "output_type": "error",
     "traceback": [
      "\u001b[0;31m---------------------------------------------------------------------------\u001b[0m",
      "\u001b[0;31mNameError\u001b[0m                                 Traceback (most recent call last)",
      "\u001b[0;32m/var/folders/1x/64pv25ds1wz9f75cf36bnkw00000gn/T/ipykernel_79144/1425949877.py\u001b[0m in \u001b[0;36m<module>\u001b[0;34m\u001b[0m\n\u001b[0;32m----> 1\u001b[0;31m \u001b[0mplt\u001b[0m\u001b[0;34m.\u001b[0m\u001b[0mplot\u001b[0m\u001b[0;34m(\u001b[0m\u001b[0mz_arr\u001b[0m\u001b[0;34m,\u001b[0m \u001b[0mnH_arr\u001b[0m\u001b[0;34m,\u001b[0m \u001b[0mlabel\u001b[0m\u001b[0;34m=\u001b[0m\u001b[0;34m'$\\\\langle n_H \\\\rangle$'\u001b[0m\u001b[0;34m)\u001b[0m\u001b[0;34m\u001b[0m\u001b[0;34m\u001b[0m\u001b[0m\n\u001b[0m\u001b[1;32m      2\u001b[0m \u001b[0mplt\u001b[0m\u001b[0;34m.\u001b[0m\u001b[0mplot\u001b[0m\u001b[0;34m(\u001b[0m\u001b[0mz_arr\u001b[0m\u001b[0;34m,\u001b[0m \u001b[0mnHII_arr\u001b[0m\u001b[0;34m,\u001b[0m \u001b[0mlabel\u001b[0m\u001b[0;34m=\u001b[0m\u001b[0;34m'$\\\\langle n_{HII} \\\\rangle$'\u001b[0m\u001b[0;34m)\u001b[0m\u001b[0;34m\u001b[0m\u001b[0;34m\u001b[0m\u001b[0m\n\u001b[1;32m      3\u001b[0m \u001b[0mplt\u001b[0m\u001b[0;34m.\u001b[0m\u001b[0mplot\u001b[0m\u001b[0;34m(\u001b[0m\u001b[0mz_arr\u001b[0m\u001b[0;34m,\u001b[0m \u001b[0mne_arr\u001b[0m\u001b[0;34m,\u001b[0m \u001b[0mlabel\u001b[0m\u001b[0;34m=\u001b[0m\u001b[0;34m'$\\\\langle n_e \\\\rangle$'\u001b[0m\u001b[0;34m)\u001b[0m\u001b[0;34m\u001b[0m\u001b[0;34m\u001b[0m\u001b[0m\n\u001b[1;32m      4\u001b[0m \u001b[0mplt\u001b[0m\u001b[0;34m.\u001b[0m\u001b[0mplot\u001b[0m\u001b[0;34m(\u001b[0m\u001b[0mz_arr\u001b[0m\u001b[0;34m,\u001b[0m \u001b[0malphaHII_arr\u001b[0m\u001b[0;34m,\u001b[0m \u001b[0mlabel\u001b[0m\u001b[0;34m=\u001b[0m\u001b[0;34m'$\\\\langle \\\\alpha_{HII} \\\\rangle$'\u001b[0m\u001b[0;34m)\u001b[0m\u001b[0;34m\u001b[0m\u001b[0;34m\u001b[0m\u001b[0m\n\u001b[1;32m      5\u001b[0m \u001b[0mplt\u001b[0m\u001b[0;34m.\u001b[0m\u001b[0mxlabel\u001b[0m\u001b[0;34m(\u001b[0m\u001b[0;34m'Redshift'\u001b[0m\u001b[0;34m)\u001b[0m\u001b[0;34m\u001b[0m\u001b[0;34m\u001b[0m\u001b[0m\n",
      "\u001b[0;31mNameError\u001b[0m: name 'plt' is not defined"
     ]
    }
   ],
   "source": [
    "plt.plot(z_arr, nH_arr, label='$\\\\langle n_H \\\\rangle$')\n",
    "plt.plot(z_arr, nHII_arr, label='$\\\\langle n_{HII} \\\\rangle$')\n",
    "plt.plot(z_arr, ne_arr, label='$\\\\langle n_e \\\\rangle$')\n",
    "plt.plot(z_arr, alphaHII_arr, label='$\\\\langle \\\\alpha_{HII} \\\\rangle$')\n",
    "plt.xlabel('Redshift')\n",
    "plt.ylabel('Number density ($m^{-3}$)')\n",
    "plt.legend()\n",
    "plt.savefig(\"Graphs/{0} Other quantities.jpg\".format(datetime.now()), dpi=300)\n",
    "plt.show()"
   ]
  },
  {
   "attachments": {},
   "cell_type": "markdown",
   "id": "fcc73bd6",
   "metadata": {},
   "source": [
    "# Differential equation"
   ]
  }
 ],
 "metadata": {
  "kernelspec": {
   "display_name": "base",
   "language": "python",
   "name": "python3"
  },
  "language_info": {
   "codemirror_mode": {
    "name": "ipython",
    "version": 3
   },
   "file_extension": ".py",
   "mimetype": "text/x-python",
   "name": "python",
   "nbconvert_exporter": "python",
   "pygments_lexer": "ipython3",
   "version": "3.8.8"
  },
  "vscode": {
   "interpreter": {
    "hash": "7e73dac1c41d797802da780940d4c447877bdac34dc012a1ae40d2ee87bbe4af"
   }
  }
 },
 "nbformat": 4,
 "nbformat_minor": 5
}
