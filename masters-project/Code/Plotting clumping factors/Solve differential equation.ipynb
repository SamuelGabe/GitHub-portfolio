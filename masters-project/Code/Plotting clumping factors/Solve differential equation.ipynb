{
 "cells": [
  {
   "attachments": {},
   "cell_type": "markdown",
   "metadata": {},
   "source": []
  },
  {
   "cell_type": "code",
   "execution_count": 1,
   "metadata": {},
   "outputs": [],
   "source": [
    "from datetime import datetime\n",
    "import numpy as np\n",
    "import matplotlib.pyplot as plt\n",
    "import scipy.constants as con\n",
    "from scipy import integrate\n",
    "\n",
    "z_arr = np.linspace(0,20,1000)\n",
    "ndot_ion = 3E+50 / 3.0857E+22\n",
    "mass_H   = 1.67262192E-27\n",
    "clump_H = 3"
   ]
  },
  {
   "attachments": {},
   "cell_type": "markdown",
   "metadata": {},
   "source": [
    "# Open files (not needed for first stage of solving equation)"
   ]
  },
  {
   "cell_type": "code",
   "execution_count": 6,
   "metadata": {},
   "outputs": [
    {
     "name": "stdout",
     "output_type": "stream",
     "text": [
      "omegaB: 0.0482\n",
      "omegaL: 0.692\n",
      "omegaM: 0.308\n"
     ]
    }
   ],
   "source": [
    "# Format file name to have 3 decimal places\n",
    "base = './planck1_20_1024_cold/'\n",
    "file  = base+'los2048_n5000_z{0:.3f}.dat'.format(6.0)\n",
    "\n",
    "# Open the binary file\n",
    "readdata = open(file,\"rb\")\n",
    "\n",
    "# Header data\n",
    "ztime  = np.fromfile(readdata,dtype=np.double,count=1) # redshift\n",
    "omegaM = np.fromfile(readdata,dtype=np.double,count=1) # Omega_m (matter density)\n",
    "omegaL = np.fromfile(readdata,dtype=np.double,count=1) # Omega_L (Lambda density)\n",
    "omegab = np.fromfile(readdata,dtype=np.double,count=1) # Omega_b (baryon density)\n",
    "h100   = np.fromfile(readdata,dtype=np.double,count=1) # Hubble constant, H0 / 100 km/s/Mpc\n",
    "box100 = np.fromfile(readdata,dtype=np.double,count=1) # Box size in comoving kpc/h\n",
    "Xh     = np.fromfile(readdata,dtype=np.double,count=1) # Hydrogen fraction by mass\n",
    "nbins  = np.fromfile(readdata,dtype=np.int32,count=1)  # Number of pixels in each line of sight\n",
    "numlos = np.fromfile(readdata,dtype=np.int32,count=1)  # Number of lines of sight\n",
    "\n",
    "# Line of sight locations in box \n",
    "iaxis  = np.fromfile(readdata,dtype=np.int32,count=numlos[0])  # projection axis, x=1, y=2, z=3\n",
    "xaxis  = np.fromfile(readdata,dtype=np.double,count=numlos[0]) # x-coordinate in comoving kpc/h\n",
    "yaxis  = np.fromfile(readdata,dtype=np.double,count=numlos[0]) # y-coordinate in comoving kpc/h\n",
    "zaxis  = np.fromfile(readdata,dtype=np.double,count=numlos[0]) # z-coordinate in comoving kpc/h\n",
    "\n",
    "# Line of sight scale\n",
    "posaxis = np.fromfile(readdata,dtype=np.double,count=nbins[0]) # comoving kpc/h\n",
    "velaxis = np.fromfile(readdata,dtype=np.double,count=nbins[0]) # km/s\n",
    "\n",
    "# Gas density, rho/<rho>\n",
    "density = np.fromfile(readdata,dtype=np.double,count=nbins[0]*numlos[0])\n",
    "\n",
    "# H1 fraction, fH1 = nH1/nH\n",
    "H1frac  = np.fromfile(readdata,dtype=np.double,count=nbins[0]*numlos[0])\n",
    "\n",
    "# Temperature, K\n",
    "temp    = np.fromfile(readdata,dtype=np.double,count=nbins[0]*numlos[0])\n",
    "\n",
    "# Peculiar velocity, km/s\n",
    "vpec    = np.fromfile(readdata,dtype=np.double,count=nbins[0]*numlos[0])\n",
    "\n",
    "# Close the binary file\n",
    "readdata.close()\n",
    "\n",
    "print(\"omegaB:\", omegab[0])\n",
    "print(\"omegaL:\", omegaL[0])\n",
    "print(\"omegaM:\", omegaM[0]) "
   ]
  },
  {
   "attachments": {},
   "cell_type": "markdown",
   "metadata": {},
   "source": [
    "# Without data"
   ]
  },
  {
   "cell_type": "code",
   "execution_count": 2,
   "metadata": {},
   "outputs": [
    {
     "name": "stderr",
     "output_type": "stream",
     "text": [
      "/var/folders/1x/64pv25ds1wz9f75cf36bnkw00000gn/T/ipykernel_60386/1646211536.py:28: RuntimeWarning: invalid value encountered in sqrt\n",
      "  def hubble(z): return H0 * np.sqrt(omegaM * (1 + z)**3 + omegaL)\n"
     ]
    },
    {
     "data": {
      "text/plain": [
       "Text(0, 0.5, '$Q(z)$')"
      ]
     },
     "execution_count": 2,
     "metadata": {},
     "output_type": "execute_result"
    },
    {
     "data": {
      "image/png": "[encoded data removed]",
      "text/plain": [
       "<Figure size 432x288 with 1 Axes>"
      ]
     },
     "metadata": {
      "needs_background": "light"
     },
     "output_type": "display_data"
    }
   ],
   "source": [
    "# x axis\n",
    "z_arr = np.linspace(20, 0, 100)\n",
    "\n",
    "# 1 MPc in metres\n",
    "MPc = 3.0857E+22\n",
    "\n",
    "# Define constants. Some are taken from the simulations\n",
    "ndot_ion = 3E+50 / MPc**3\n",
    "mass_H   = 1.67262192E-27\n",
    "clump_H = 3\n",
    "Xh = 0.76\n",
    "Yhe = 1 - Xh\n",
    "temp = 1E4\n",
    "H0 = 67.5 * 1000 / MPc\n",
    "\n",
    "omegab = 0.0482\n",
    "omegaL = 0.692\n",
    "omegaM = 0.308\n",
    "\n",
    "# Now we can calculate the quantities needed for the equation\n",
    "# Calculate alpha \n",
    "a = 7.982e-11; b = 0.7480; T0 = 3.148; T1=7.036e5; T = 1e4\n",
    "alpha = a*(np.sqrt(T/T0) * (1 + np.sqrt(T/T0))**(1-b) * (1 + np.sqrt(T/T1))**(1+b))**-1\n",
    "\n",
    "# These quantities vary with z so I've made functions for each of them\n",
    "def n_avg(z):  return (3 * H0*H0 / (8 * np.pi * con.G)) * omegab * Xh * (1+z)**3 / mass_H\n",
    "def t_rec(z):  return ((clump_H * alpha * n_avg(z)) * (1 + z)**3 * (1 + Yhe / (4*Xh)))**-1\n",
    "def hubble(z): return H0 * np.sqrt(omegaM * (1 + z)**3 + omegaL)\n",
    "\n",
    "# This takes Q and z and gives a value of dQ/dz\n",
    "def diff_eqn(Q, z): \n",
    "    return (Q / t_rec(z) - ndot_ion / n_avg(z)) / (hubble(z) * (1+z))\n",
    "\n",
    "y0 = 0\n",
    "Q = integrate.odeint(diff_eqn, y0, z_arr)\n",
    "plt.plot(z_arr, Q)\n",
    "plt.xlabel('$z$')\n",
    "plt.ylabel('$Q(z)$')\n",
    "\n",
    "# TODO: try solving it using forward Euler/forward difference method"
   ]
  },
  {
   "attachments": {},
   "cell_type": "markdown",
   "metadata": {},
   "source": [
    "Plot dQ/dz"
   ]
  },
  {
   "cell_type": "code",
   "execution_count": 31,
   "metadata": {},
   "outputs": [
    {
     "name": "stderr",
     "output_type": "stream",
     "text": [
      "/Users/samgabe/opt/anaconda3/lib/python3.8/site-packages/scipy/integrate/odepack.py:247: ODEintWarning: Excess work done on this call (perhaps wrong Dfun type). Run with full_output = 1 to get quantitative information.\n",
      "  warnings.warn(warning_msg, ODEintWarning)\n"
     ]
    },
    {
     "data": {
      "text/plain": [
       "Text(0, 0.5, '$Q(z)$')"
      ]
     },
     "execution_count": 31,
     "metadata": {},
     "output_type": "execute_result"
    },
    {
     "data": {
      "image/png": "[encoded data removed]",
      "text/plain": [
       "<Figure size 432x288 with 1 Axes>"
      ]
     },
     "metadata": {
      "needs_background": "light"
     },
     "output_type": "display_data"
    }
   ],
   "source": [
    "# x axis\n",
    "z_arr = np.linspace(5, 20, 100)\n",
    "\n",
    "# 1 MPc in metres\n",
    "MPc = 3.0857E+22\n",
    "\n",
    "# Define constants. Some are taken from the simulations\n",
    "ndot_ion = 3E+50 / MPc**3\n",
    "mass_H   = 1.67262192E-27\n",
    "clump_H = 3\n",
    "Xh = 0.76\n",
    "Yhe = 1 - Xh\n",
    "temp = 1E4\n",
    "H0 = 67.5 * 1000 / MPc\n",
    "\n",
    "omegab = 0.0482\n",
    "omegaL = 0.692\n",
    "omegaM = 0.308\n",
    "\n",
    "# Now we can calculate the quantities needed for the equation\n",
    "# Calculate alpha \n",
    "a = 7.982e-11; b = 0.7480; T0 = 3.148; T1=7.036e5; T = 1e4\n",
    "alpha = a*(np.sqrt(T/T0) * (1 + np.sqrt(T/T0))**(1-b) * (1 + np.sqrt(T/T1))**(1+b))**-1\n",
    "\n",
    "# These quantities vary with z so I've made functions for each of them\n",
    "def n_avg(z):  return (3 * H0*H0 / (8 * np.pi * con.G)) * omegab * Xh * (1+z)**3 / mass_H\n",
    "def t_rec(z):  return ((clump_H * alpha * n_avg(z)) * (1 + z)**3 * (1 + Yhe / 4*Xh))**-1\n",
    "def hubble(z): return H0 * np.sqrt(omegaM * (1 + z)**3 + omegaL)\n",
    "\n",
    "# This takes Q and z and gives a value of dQ/dz\n",
    "def diff_eqn(Q, z): \n",
    "    return (Q / t_rec(z) - ndot_ion / n_avg(z)) / (hubble(z) * (1+z))\n",
    "\n",
    "y0 = 1\n",
    "Q = integrate.odeint(diff_eqn, y0, z_arr)\n",
    "plt.plot(z_arr, Q)\n",
    "plt.xlabel('$z$')\n",
    "plt.ylabel('$Q(z)$')"
   ]
  }
 ],
 "metadata": {
  "kernelspec": {
   "display_name": "base",
   "language": "python",
   "name": "python3"
  },
  "language_info": {
   "codemirror_mode": {
    "name": "ipython",
    "version": 3
   },
   "file_extension": ".py",
   "mimetype": "text/x-python",
   "name": "python",
   "nbconvert_exporter": "python",
   "pygments_lexer": "ipython3",
   "version": "3.8.8"
  },
  "orig_nbformat": 4,
  "vscode": {
   "interpreter": {
    "hash": "7e73dac1c41d797802da780940d4c447877bdac34dc012a1ae40d2ee87bbe4af"
   }
  }
 },
 "nbformat": 4,
 "nbformat_minor": 2
}
